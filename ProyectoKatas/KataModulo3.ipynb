{
 "cells": [
  {
   "cell_type": "markdown",
   "metadata": {},
   "source": [
    "## Kata Módulo 3. \n",
    "### Uso de lógica booleana"
   ]
  },
  {
   "cell_type": "code",
   "execution_count": 7,
   "metadata": {},
   "outputs": [
    {
     "name": "stdout",
     "output_type": "stream",
     "text": [
      "55\n"
     ]
    }
   ],
   "source": [
    "# Ejercicio 1\n",
    "\n",
    "a = 97\n",
    "b = 55\n",
    "# test expression / expresión de prueba\n",
    "if a < b:\n",
    "    \n",
    "    print(b)"
   ]
  },
  {
   "cell_type": "markdown",
   "metadata": {},
   "source": [
    "### Combinando declaraciones if , elif, y else"
   ]
  },
  {
   "cell_type": "code",
   "execution_count": null,
   "metadata": {},
   "outputs": [],
   "source": [
    "a = 93\n",
    "b = 27\n",
    "if a > b:\n",
    "    print(\"a es mayor que b\")\n",
    "elif a < b:\n",
    "    print(\"a es menor que b\")\n",
    "else: \n",
    "    print (\"a es igual que b\")"
   ]
  },
  {
   "cell_type": "markdown",
   "metadata": {},
   "source": [
    "### Trabajando con lógica condicional anidada"
   ]
  },
  {
   "cell_type": "code",
   "execution_count": null,
   "metadata": {},
   "outputs": [],
   "source": [
    "a = 16\n",
    "b = 25\n",
    "c = 27\n",
    "if a > b:\n",
    "    if b > c:\n",
    "        print (\"a es mayor que b y b es mayor que c\")\n",
    "    else: \n",
    "        print (\"a es mayor que b y menor que c\")\n",
    "elif a == b:\n",
    "    print (\"a es igual que b\")\n",
    "else:\n",
    "    print (\"a es menor que b\")"
   ]
  },
  {
   "cell_type": "markdown",
   "metadata": {},
   "source": [
    "### Operadores Booleanos"
   ]
  },
  {
   "cell_type": "markdown",
   "metadata": {},
   "source": [
    "#### OR"
   ]
  },
  {
   "cell_type": "code",
   "execution_count": 8,
   "metadata": {},
   "outputs": [
    {
     "name": "stdout",
     "output_type": "stream",
     "text": [
      "57\n"
     ]
    }
   ],
   "source": [
    "a = 23\n",
    "b = 34\n",
    "if a == 34 or b == 34:\n",
    "    print(a + b)"
   ]
  },
  {
   "cell_type": "markdown",
   "metadata": {},
   "source": [
    "#### AND"
   ]
  },
  {
   "cell_type": "code",
   "execution_count": 9,
   "metadata": {},
   "outputs": [],
   "source": [
    "a = 23\n",
    "b = 34\n",
    "if a == 34 and b == 34:\n",
    "    print(a + b)"
   ]
  },
  {
   "cell_type": "markdown",
   "metadata": {},
   "source": [
    "## Evidencias Módulo 3."
   ]
  },
  {
   "cell_type": "code",
   "execution_count": 5,
   "metadata": {},
   "outputs": [
    {
     "name": "stdout",
     "output_type": "stream",
     "text": [
      "¡UN ASTERIODE SE ACERCA A LA TIERRA!\n"
     ]
    }
   ],
   "source": [
    "# Ejercicio 1: Asteroide\n",
    "\n",
    "vel_asteroide = 49 #km/s\n",
    "\n",
    "if vel_asteroide > 25:\n",
    "    print(\"¡UN ASTERIODE SE ACERCA A LA TIERRA!\")\n",
    "else:\n",
    "    print(\"Todo bien :)\")"
   ]
  },
  {
   "cell_type": "code",
   "execution_count": 10,
   "metadata": {},
   "outputs": [
    {
     "name": "stdout",
     "output_type": "stream",
     "text": [
      "¡Hay un asteroide que se dirige a la tierra ahora, a una velocidad de 21 km/s!\n"
     ]
    }
   ],
   "source": [
    "#Ejercicio 2: Asteroide\n",
    "\n",
    "vel_asteroide = 21 #km/s\n",
    "\n",
    "if vel_asteroide > 20:\n",
    "    print(\"¡Hay un asteroide que se dirige a la tierra ahora, a una velocidad de \"+ str(vel_asteroide)+\" km/s!\")\n",
    "elif vel_asteroide == 20:\n",
    "    print(\"¡Busquen un rayo de luz, puede que un asteroide se dirija a la Tierra!\")\n",
    "else:\n",
    "    print(\"Todo bien :)\")"
   ]
  },
  {
   "cell_type": "code",
   "execution_count": 18,
   "metadata": {},
   "outputs": [
    {
     "name": "stdout",
     "output_type": "stream",
     "text": [
      "¡Hay un asteroide muy grande que se dirige a la tierra ahora, a una velocidad de 26 km/s!\n"
     ]
    }
   ],
   "source": [
    "# Ejercicio de operadores AND y OR\n",
    "# Si una pieza de un asteroide que es más grande que 25 metros pero más pequeña que 1000 metros golpeara la Tierra, causaría mucho daño.\n",
    "# Cualquier velocidad superior a 25 kilómetros por segundo (km/s) merece una advertencia.\n",
    "# Si un asteroide entra en la atmósfera de la Tierra a una velocidad mayor o igual a 20 km/s, a veces produce un rayo de luz que se puede ver desde la Tierra.\n",
    "\n",
    "vel_asteroide = 26 #km/s\n",
    "dim_asteroide = 26 #m\n",
    "\n",
    "if vel_asteroide > 25 and dim_asteroide > 25:\n",
    "    print(\"¡Hay un asteroide muy grande que se dirige a la tierra ahora, a una velocidad de \"+ str(vel_asteroide)+\" km/s!\")\n",
    "elif vel_asteroide >= 20:\n",
    "    print(\"¡Busquen un rayo de luz, podría verse un asteriode desde la Tierra!\")\n",
    "elif dim_asteoirde < 25:\n",
    "    print(\"Todo bien :)\")\n",
    "else:\n",
    "    print(\"Todo bien :)\")\n"
   ]
  }
 ],
 "metadata": {
  "interpreter": {
   "hash": "eae47d52b0b06ace51bfa4e9d1f1aae633b8d0395256d98d666e8973a1aa06c5"
  },
  "kernelspec": {
   "display_name": "Python 3.10.1 64-bit",
   "name": "python3"
  },
  "language_info": {
   "codemirror_mode": {
    "name": "ipython",
    "version": 3
   },
   "file_extension": ".py",
   "mimetype": "text/x-python",
   "name": "python",
   "nbconvert_exporter": "python",
   "pygments_lexer": "ipython3",
   "version": "3.10.1"
  },
  "orig_nbformat": 4
 },
 "nbformat": 4,
 "nbformat_minor": 2
}
