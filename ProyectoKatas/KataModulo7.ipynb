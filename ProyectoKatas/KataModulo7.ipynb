{
 "cells": [
  {
   "cell_type": "markdown",
   "metadata": {},
   "source": [
    "# Kata módulo 7\n",
    "### Estructuras de control WHILE y FOR"
   ]
  },
  {
   "cell_type": "markdown",
   "metadata": {},
   "source": [
    "### Evidencias de Kata módulo 7\n"
   ]
  },
  {
   "cell_type": "code",
   "execution_count": null,
   "metadata": {},
   "outputs": [],
   "source": [
    "# Ejercicio 1. Uso de ciclo WHILE\n",
    "nuevo_planeta = ''\n",
    "planetas = []\n",
    "\n",
    "\n",
    "while nuevo_planeta.lower() != 'hecho':\n",
    "        if nuevo_planeta != '':\n",
    "                planetas.append(nuevo_planeta)\n",
    "                        \n",
    "        # Para asolictar el nuevo valor al usuario se debe hacer fuera del IF        \n",
    "        nuevo_planeta = input('Ingrese el nombre de un planeta que desee agregar a la lista de planetas, si no escriba la palabra \"hecho\"')\n",
    "\n",
    "print(planetas)"
   ]
  },
  {
   "cell_type": "code",
   "execution_count": null,
   "metadata": {},
   "outputs": [],
   "source": [
    "#Ejercicio 2. Uso de ciclo FOR\n",
    "\n",
    "for planeta in planetas:\n",
    "    print(planeta)"
   ]
  },
  {
   "cell_type": "markdown",
   "metadata": {},
   "source": [
    "### WHILE\n",
    "        Te permiten ejecutar código un número desconocido de veces. Los ciclos examinan una condición booleana y, siempre que la condición sea verdadera, se ejecutará el código dentro del ciclo. \n",
    "Un ciclo while tiene tres partes importantes:\n",
    "\n",
    " 1. La palabra while, seguida de un espacio.\n",
    " 2. La condición que se va a probar. Si la condición es True, se ejecutará el código dentro del ciclo while.\n",
    " 3. El código que quiere ejecutar para cada elemento del objeto iterable, seguido de espacios en blanco anidados. "
   ]
  },
  {
   "cell_type": "code",
   "execution_count": null,
   "metadata": {},
   "outputs": [],
   "source": [
    "user_input = ''\n",
    "lista = []\n",
    "\n",
    "# Ciclo while\n",
    "while user_input.lower() != 'done':\n",
    "    # Verificamos si hay un valor en user_input, es decir -> if user_input == if user_input != '':\n",
    "    # Se usa el 'if' para que si se escribe la palabra \"done\" esta ya no sea agregada a la lista\n",
    "    if user_input:\n",
    "        # Almacenamos ese valor en la lista\n",
    "        lista.append(user_input)\n",
    "    # Capturamos un nuevo valor\n",
    "    user_input = input('Enter a new value, or done when done')\n",
    "    \n",
    "print(lista)"
   ]
  },
  {
   "cell_type": "markdown",
   "metadata": {},
   "source": [
    "### FOR\n",
    "También puede determinar el número de elementos de una lista mediante len. Por lo tanto, podría usar un ciclo while y un contador para recorrer en ciclo o en iteración cada elemento de la lista. Dado que se trata de una operación tan común, Python proporciona ciclos for,\n",
    "    \n",
    "    \n",
    "    QUE SE USAN PARA RECORRER EN ITERACIÓN LAS LISTAS."
   ]
  },
  {
   "cell_type": "code",
   "execution_count": null,
   "metadata": {},
   "outputs": [],
   "source": [
    "planets = [\"Mercury\", \"Venus\", \"Earth\", \"Mars\", \"Jupiter\", \"Saturn\", \"Uranus\", \"Neptune\"]\n",
    "\n",
    "#Se puede acceder a cualquier elemento de la lista mediante los índices\n",
    "print(\"The first planet is \", planets[0])\n",
    "print(\"The second planet is \", planets[1])\n",
    "print(\"The third planet is \", planets[2])\n",
    "\n",
    "#Se puede determinar el número de elementos contenidos en la lista con len()\n",
    "len(planets)\n",
    "\n"
   ]
  },
  {
   "cell_type": "markdown",
   "metadata": {},
   "source": [
    "El ciclo for es una instrucción con cinco partes importantes:\n",
    "\n",
    "1. La palabra for, seguida de un espacio.\n",
    "2. El nombre de la variable que quieres crear para cada valor de la secuencia (number).\n",
    "3. La palabra in, entre espacios.\n",
    "4. El nombre de la lista u objeto iterable que quieres recorrer en ciclo, seguido de dos puntos (:).\n",
    "5. El código que quieres ejecutar para cada elemento del objeto iterable, separado por espacios en blanco anidados."
   ]
  },
  {
   "cell_type": "markdown",
   "metadata": {},
   "source": [
    "Las listas de Python son iterables y se pueden usar con un ciclo for. \n",
    "\n",
    "    Se usa un ciclo for con objetos iterables que va a recorrer en ciclo un número CONOCIDO de veces, una vez para cada elemento del objeto iterable."
   ]
  },
  {
   "cell_type": "code",
   "execution_count": null,
   "metadata": {},
   "outputs": [],
   "source": [
    "from time import sleep #Importamos el método \"sleep\" de la biblioteca 'time' para que el programa espere 1 segundo entre cada iteración\n",
    "\n",
    "countdown = [4, 3, 2, 1, 0]\n",
    "for number in countdown:\n",
    "    print(number)\n",
    "    sleep(1) #Espera 1 segundo entre cada iteración\n",
    "print(\"Blast off!! 🚀\")"
   ]
  }
 ],
 "metadata": {
  "interpreter": {
   "hash": "eae47d52b0b06ace51bfa4e9d1f1aae633b8d0395256d98d666e8973a1aa06c5"
  },
  "kernelspec": {
   "display_name": "Python 3.10.1 64-bit",
   "name": "python3"
  },
  "language_info": {
   "codemirror_mode": {
    "name": "ipython",
    "version": 3
   },
   "file_extension": ".py",
   "mimetype": "text/x-python",
   "name": "python",
   "nbconvert_exporter": "python",
   "pygments_lexer": "ipython3",
   "version": "3.10.1"
  },
  "orig_nbformat": 4
 },
 "nbformat": 4,
 "nbformat_minor": 2
}
