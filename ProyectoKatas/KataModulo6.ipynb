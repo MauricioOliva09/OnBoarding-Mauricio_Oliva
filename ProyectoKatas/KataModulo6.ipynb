{
 "cells": [
  {
   "cell_type": "markdown",
   "metadata": {},
   "source": [
    "## Kata Módulo 6. Listas\n",
    "#### Definición\n",
    "Las listas son un conjunto de elementos almacenados en una variable, separados por comas, dentro de corchetes. Las listas tienen indíces, los cuales representan el número de posición que tiene un elemento dentro de la lista. Las listas en Python COMIENZAN teniendo el INDICE 0"
   ]
  },
  {
   "cell_type": "markdown",
   "metadata": {},
   "source": [
    "### Evidencia de Kata Módulo 6\n",
    "##### Ejercicio 1: Crear y usar listas de Python"
   ]
  },
  {
   "cell_type": "code",
   "execution_count": 40,
   "metadata": {},
   "outputs": [
    {
     "name": "stdout",
     "output_type": "stream",
     "text": [
      "['Mercurio', 'Venus', 'Tierra', 'Marte', 'Jupiter', 'Urano', 'Neptuno']\n",
      "8\n",
      "Pluton\n"
     ]
    }
   ],
   "source": [
    "#Ejercicio 1:\n",
    "\n",
    "#Crear lista de planetas\n",
    "planetas = [\"Mercurio\",\"Venus\", \"Tierra\", \"Marte\", \"Jupiter\", \"Urano\", \"Neptuno\"]\n",
    "print(planetas)\n",
    "\n",
    "#Agraegar a Plutón\n",
    "planetas.append(\"Pluton\")\n",
    "\n",
    "#Numero de planetas + ultimo elemento\n",
    "print(len(planetas))\n",
    "print(planetas[-1])\n",
    "\n"
   ]
  },
  {
   "cell_type": "code",
   "execution_count": 57,
   "metadata": {},
   "outputs": [
    {
     "name": "stdout",
     "output_type": "stream",
     "text": [
      "Los plentas más cercanos al Sol desde Marte son: ['Mercurio', 'Venus', 'Tierra']\n",
      "Los plentas más lejanos al Sol desde Marte son: ['Jupiter', 'Urano', 'Neptuno']\n"
     ]
    }
   ],
   "source": [
    "#Ejercicio 2:\n",
    "\n",
    "#Crear lista de planetas\n",
    "planetas = [\"Mercurio\",\"Venus\", \"Tierra\", \"Marte\", \"Jupiter\", \"Urano\", \"Neptuno\"]\n",
    "\n",
    "#Pedir al usuario el nombre de una planeta\n",
    "punto_partida = input(\"Ingrese el nombre de un planeta:\")\n",
    "\n",
    "#Buscar el elemento en la lista\n",
    "index = planetas.index(punto_partida)\n",
    "\n",
    "mas_cercanos_al_sol = planetas[0:index]\n",
    "mas_lejanos_al_sol = planetas[index+1:]\n",
    "\n",
    "#Mostrar las concidencias\n",
    "print(f\"Los plentas más cercanos al Sol desde {punto_partida} son: {mas_cercanos_al_sol}\")\n",
    "print(f\"Los plentas más lejanos al Sol desde {punto_partida} son: {mas_lejanos_al_sol}\")"
   ]
  },
  {
   "cell_type": "code",
   "execution_count": 9,
   "metadata": {},
   "outputs": [
    {
     "name": "stdout",
     "output_type": "stream",
     "text": [
      "The first planet is Mercury\n",
      "The second planet is Venus\n",
      "The third planet is Earth\n",
      "Mars is also known as Red Planet\n",
      "There are 8 planets in the solar system.\n",
      "There are currently 9 planets in the solar system.\n",
      "No, there are definitely 8 planets in the solar system.\n"
     ]
    }
   ],
   "source": [
    "planets = ['Mercury', 'Venus', 'Earth', 'Mars', 'Jupiter', 'Saturn', 'Uranus', 'Neptune']\n",
    "\n",
    "print('The first planet is', planets[0])\n",
    "print('The second planet is', planets[1])\n",
    "print('The third planet is', planets[2])\n",
    "\n",
    "\n",
    "\n",
    "#Para cambiar el valor de un elemento de la lista se hace una nueva asignación\n",
    "planets[3] = 'Red Planet'\n",
    "print('Mars is also known as', planets[3])\n",
    "\n",
    "\n",
    "\n",
    "#Longitud de un lista\n",
    "len(planets)\n",
    "\n",
    "number_of_planets = len(planets)\n",
    "print('There are', number_of_planets, 'planets in the solar system.')\n",
    "\n",
    "\n",
    "\n",
    "#Agregar un nuevo elemento al final de la lista, se usa APPEND\n",
    "planets.append('Pluto')\n",
    "number_of_planets = len(planets)\n",
    "print('There are currently', number_of_planets, 'planets in the solar system.')\n",
    "\n",
    "\n",
    "#Para eliminar el último elemento de  una lista se usa POP\n",
    "planets.pop()  # Goodbye, Pluto\n",
    "number_of_planets = len(planets)\n",
    "print('No, there are definitely', number_of_planets, 'planets in the solar system.')"
   ]
  },
  {
   "cell_type": "markdown",
   "metadata": {},
   "source": [
    "### Índices Negativos\n",
    "Los índices comienzan en cero y aumentan. Los índices negativos comienzan al final de la lista y trabajan hacia atrás.\n",
    "\n",
    "En el ejemplo siguiente, un índice de -1 devuelve el último elemento de una lista. Un índice de -2 retorna del penúltimo al último."
   ]
  },
  {
   "cell_type": "code",
   "execution_count": 10,
   "metadata": {},
   "outputs": [
    {
     "name": "stdout",
     "output_type": "stream",
     "text": [
      "The last planet is Neptune\n",
      "The penultimate planet is Uranus\n"
     ]
    }
   ],
   "source": [
    "print('The last planet is', planets[-1])\n",
    "print('The penultimate planet is', planets[-2])"
   ]
  },
  {
   "cell_type": "markdown",
   "metadata": {},
   "source": [
    "## Buscar un valor en una lista\n",
    "Se usa el método INDEX de la lista para poder encontrar el índice que tiene un elemento de la lista. Se le suma 1 porque la lista comienza en cero."
   ]
  },
  {
   "cell_type": "code",
   "execution_count": 17,
   "metadata": {},
   "outputs": [
    {
     "name": "stdout",
     "output_type": "stream",
     "text": [
      "Jupiter tiene el lugar 5 en la lista de planetas\n",
      "Jupiter is the 5 planet from the sun\n"
     ]
    }
   ],
   "source": [
    "jupiter = planets.index('Jupiter')\n",
    "print(f'Jupiter tiene el lugar {jupiter+1} en la lista de planetas')\n",
    "print('Jupiter is the', jupiter + 1, 'planet from the sun')"
   ]
  },
  {
   "cell_type": "markdown",
   "metadata": {},
   "source": [
    "### Max y Min"
   ]
  },
  {
   "cell_type": "code",
   "execution_count": 19,
   "metadata": {},
   "outputs": [
    {
     "data": {
      "text/plain": [
       "2.36"
      ]
     },
     "execution_count": 19,
     "metadata": {},
     "output_type": "execute_result"
    }
   ],
   "source": [
    "#Python tiene integradas ciertas funciones tales como encontrar el máximo y el mínimo en una lista.\n",
    "\n",
    "gravity_on_planets = [0.378, 0.907, 1, 0.379, 2.36, 0.916, 0.889, 1.12]\n",
    "\n",
    "min(gravity_on_planets)\n",
    "max(gravity_on_planets)\n",
    "\n"
   ]
  },
  {
   "cell_type": "markdown",
   "metadata": {},
   "source": [
    "### Manipulación de datos en una lista\n",
    "Es posible encontrarse con ocasiones en las que se necesite manipular los datos de las listas, tal como ordenar los elementos de mayor a menor, etc.\n",
    "\n",
    "Esto con ayuda de \n",
    "    SLICING: Mediante la cual se puede obtener una parte de la lista. Slice utiliza corchetes, pide los índices inicial y final. Crea una lista nueva\n",
    "    SORTING:  "
   ]
  },
  {
   "cell_type": "code",
   "execution_count": 36,
   "metadata": {},
   "outputs": [
    {
     "name": "stdout",
     "output_type": "stream",
     "text": [
      "['Mercury', 'Venus']\n",
      "['Mars', 'Jupiter', 'Saturn', 'Uranus', 'Neptune']\n",
      "['Metis', 'Adrastea', 'Amalthea', 'Thebe', 'Io', 'Europa', 'Ganymede', 'Callisto']\n",
      "\n",
      "\n",
      "All the setellites and moons are listed as ['Adrastea', 'Amalthea', 'Callisto', 'Europa', 'Ganymede', 'Io', 'Metis', 'Thebe']\n",
      "All the setellites and moons are reverse listed as ['Thebe', 'Metis', 'Io', 'Ganymede', 'Europa', 'Callisto', 'Amalthea', 'Adrastea']\n",
      "\n",
      "\n"
     ]
    }
   ],
   "source": [
    "planets = [\"Mercury\", \"Venus\", \"Earth\", \"Mars\", \"Jupiter\", \"Saturn\", \"Uranus\", \"Neptune\"]\n",
    "\n",
    "#DIVIDIR LISTAS\n",
    "\n",
    "#Se obtinen los planetas antes que la Tierra, no se toma el índice final\n",
    "planets_before_earth = planets[0:2]\n",
    "print(planets_before_earth)\n",
    "\n",
    "#Para los planetas depués de la Tierra, se pone índice 8, para que tome en cuenta a Neptuno, si no se pone el indice final, \n",
    "# Python asume llegar al final de la lista.\n",
    "planets_after_earth = planets[3:] #planets[3:8]\n",
    "print(planets_after_earth)\n",
    "\n",
    "\n",
    "\n",
    "\n",
    "#UNIR LISTAS\n",
    "amalthea_group = ['Metis', 'Adrastea', 'Amalthea', 'Thebe']\n",
    "galilean_moons = ['Io', 'Europa', 'Ganymede', 'Callisto']\n",
    "\n",
    "all_moons = amalthea_group + galilean_moons\n",
    "print(all_moons) \n",
    "\n",
    "\n",
    "\n",
    "\n",
    "#Ordenar Listas con Sort\n",
    "all_moons.sort()\n",
    "print(f'\\n\\nAll the setellites and moons are listed as {all_moons}')\n",
    "\n",
    "#Para ordenar listas en orden inverso se tiene que:\n",
    "all_moons.sort(reverse=True)\n",
    "print(f'All the setellites and moons are reverse listed as {all_moons}\\n\\n')\n"
   ]
  }
 ],
 "metadata": {
  "interpreter": {
   "hash": "eae47d52b0b06ace51bfa4e9d1f1aae633b8d0395256d98d666e8973a1aa06c5"
  },
  "kernelspec": {
   "display_name": "Python 3.10.1 64-bit",
   "name": "python3"
  },
  "language_info": {
   "codemirror_mode": {
    "name": "ipython",
    "version": 3
   },
   "file_extension": ".py",
   "mimetype": "text/x-python",
   "name": "python",
   "nbconvert_exporter": "python",
   "pygments_lexer": "ipython3",
   "version": "3.10.1"
  },
  "orig_nbformat": 4
 },
 "nbformat": 4,
 "nbformat_minor": 2
}
