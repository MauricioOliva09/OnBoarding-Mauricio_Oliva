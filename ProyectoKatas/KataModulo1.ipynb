{
 "cells": [
  {
   "cell_type": "markdown",
   "metadata": {},
   "source": [
    "## Kata módulo 1\n",
    "        Se entrega evidencia de Kata para módulo 1. "
   ]
  },
  {
   "cell_type": "code",
   "execution_count": null,
   "metadata": {},
   "outputs": [],
   "source": [
    "sum = 1 + 2 # 3\n",
    "product = sum * 2\n",
    "print(product)"
   ]
  },
  {
   "cell_type": "markdown",
   "metadata": {},
   "source": [
    "Descubriendo el tipo de dato. "
   ]
  },
  {
   "cell_type": "code",
   "execution_count": null,
   "metadata": {},
   "outputs": [],
   "source": [
    "# Declaramos la variable\n",
    "distancia_a_alfa_centauri = 4.367\n",
    "\n",
    "# Descubrimos su tipo de dato\n",
    "type(distancia_a_alfa_centauri)"
   ]
  },
  {
   "cell_type": "markdown",
   "metadata": {},
   "source": [
    "### Ejercicio para mostrar fecha"
   ]
  },
  {
   "cell_type": "code",
   "execution_count": null,
   "metadata": {},
   "outputs": [],
   "source": [
    "from datetime import date\n",
    "\n",
    "fecha = date.today()\n",
    "print(\"Today's date is: \"+str(fecha))"
   ]
  },
  {
   "cell_type": "markdown",
   "metadata": {},
   "source": [
    "### Ejercicio de conversión entre Parsecs y Años Luz"
   ]
  },
  {
   "cell_type": "code",
   "execution_count": 16,
   "metadata": {},
   "outputs": [
    {
     "name": "stdout",
     "output_type": "stream",
     "text": [
      "100.0 Años Luz son equivalentes a 30.66017488563755 Parsecs\n"
     ]
    }
   ],
   "source": [
    "# 1 parsec es 3.26156 años luz\n",
    "\n",
    "opc = int(input(\"¿Qué desea convertir? \\n 1. Parsecs a Años Luz \\n 2. Años luz a Parsecs\"))\n",
    "if opc == 1:\n",
    "    dato = float(input(\"Introduzca el número de Parsecs que desea convertir:\"))\n",
    "    result = dato * 3.26156\n",
    "    print(str(dato)+\" Parsecs son equivalentes a \"+str(result)+\" Años luz\")\n",
    "elif opc == 2:\n",
    "    dato = float(input(\"Introduzca el número de Años Luz que desea convertir:\"))\n",
    "    result = dato / 3.26156\n",
    "    print(str(dato)+\" Años Luz son equivalentes a \"+str(result)+\" Parsecs\")"
   ]
  },
  {
   "cell_type": "markdown",
   "metadata": {},
   "source": [
    "### Operadores de Asignación.\n",
    "    A continuación, se definen los operadores de asignación:\n",
    "\n",
    "\n",
    "        =   \tx = 2   ->   x ahora contiene 2.\n",
    "        +=  \tx += 2  ->   x incrementado en 2. Si antes contenía 2, ahora tiene un valor de 4.\n",
    "        -=\t        x -= 2  ->   x decrementado por 2. Si antes contenía 2, ahora tiene un valor de 0.\n",
    "        /=\t        x /= 2  ->   x dividido por 2. Si antes contenía 2, ahora tiene un valor de 1.\n",
    "        *=  \tx *= 2  ->   x multiplicado por 2. Si antes contenía 2, ahora tiene un valor de 4."
   ]
  },
  {
   "cell_type": "markdown",
   "metadata": {},
   "source": [
    "### Fechas\n",
    "1. Archivo de copia de seguridad. Usar una fecha como parte del nombre de un archivo de copia de seguridad es una buena manera de indicar cuándo se realizó una copia de seguridad y cuándo debe realizarse nuevamente.\n",
    "2. Condición. Es posible que desee llevar una lógica específica cuando hay una fecha determinada.\n",
    "3. Métrica. Las fechas se utilizan para comprobar el rendimiento del código para, por ejemplo, medir el tiempo que se tarda en ejecutar una función."
   ]
  },
  {
   "cell_type": "code",
   "execution_count": null,
   "metadata": {},
   "outputs": [],
   "source": [
    "# Importamos la biblioteca \n",
    "from datetime import date\n",
    "\n",
    "# Obtenemos la fecha de hoy\n",
    "date.today()\n",
    "\n",
    "# Mostramos la fecha en la consola\n",
    "print(date.today())"
   ]
  },
  {
   "cell_type": "code",
   "execution_count": null,
   "metadata": {},
   "outputs": [],
   "source": [
    "# Tu turno ejecuta el siguiente comando: \n",
    "# SE DEBEN DE CONCATENRAR CADENAS MEDIANTE EL CAMBIO DE TIPO DE DATO, COMO EN ESTE CASO:\n",
    "print(\"Today's date is: \" + str(date.today()))"
   ]
  },
  {
   "cell_type": "code",
   "execution_count": null,
   "metadata": {},
   "outputs": [],
   "source": [
    "print(\"Bienvenido al programa de bienvenida\")\n",
    "name = input(\"Introduzca su nombre \")\n",
    "print(\"Saludos: \" + name)"
   ]
  },
  {
   "cell_type": "code",
   "execution_count": null,
   "metadata": {},
   "outputs": [],
   "source": [
    "#Se debe especificar el tipo de dato que se desea imprimir, en este caso int\n",
    "print(\"Calculadora \\n Inrgesa los números que deseas sumar:\")\n",
    "first_number = input(\"Primer número: \")\n",
    "second_number = input(\"Segundo número: \")\n",
    "print(int(first_number) + int(second_number))"
   ]
  }
 ],
 "metadata": {
  "interpreter": {
   "hash": "eae47d52b0b06ace51bfa4e9d1f1aae633b8d0395256d98d666e8973a1aa06c5"
  },
  "kernelspec": {
   "display_name": "Python 3.10.1 64-bit",
   "name": "python3"
  },
  "language_info": {
   "codemirror_mode": {
    "name": "ipython",
    "version": 3
   },
   "file_extension": ".py",
   "mimetype": "text/x-python",
   "name": "python",
   "nbconvert_exporter": "python",
   "pygments_lexer": "ipython3",
   "version": "3.10.1"
  },
  "orig_nbformat": 4
 },
 "nbformat": 4,
 "nbformat_minor": 2
}
