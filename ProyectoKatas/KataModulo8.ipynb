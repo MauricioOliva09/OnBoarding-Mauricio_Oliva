{
 "cells": [
  {
   "cell_type": "markdown",
   "metadata": {},
   "source": [
    "## Kata Módulo 8. Administrar datos con diccionarios"
   ]
  },
  {
   "cell_type": "code",
   "execution_count": 8,
   "metadata": {},
   "outputs": [
    {
     "name": "stdout",
     "output_type": "stream",
     "text": [
      "Se trata del planeta Marte, el cual tiene 2 lunas\n",
      "6752\n"
     ]
    }
   ],
   "source": [
    "# Ejercicio 1: Crear y modificar un diccionario de Python\n",
    "\n",
    "planet = {\n",
    "    'name': 'Marte',\n",
    "    'moons': 2\n",
    "}\n",
    "\n",
    "print(f\"Se trata del planeta {planet['name']}, el cual tiene {planet['moons']} lunas\")\n",
    "\n",
    "planet['circunferencia (km)'] = {\n",
    "    'polar': 6752,\n",
    "    'equatorial': 6792\n",
    "} \n",
    "\n",
    "print(planet['circunferencia (km)']['polar'])"
   ]
  },
  {
   "cell_type": "code",
   "execution_count": 3,
   "metadata": {},
   "outputs": [
    {
     "name": "stdout",
     "output_type": "stream",
     "text": [
      "dict_values([0, 0, 1, 2, 79, 82, 27, 14, 5, 2, 1, 1])\n",
      "El total de lunas que se tienen es de: 214\n",
      "El promedio de lunas por pleneta es de: 17.833333333333332\n"
     ]
    }
   ],
   "source": [
    "# Ejercicio 2: Cálculo de valores.\n",
    "\n",
    "planet_moons = {\n",
    "    'mercury': 0,\n",
    "    'venus': 0,\n",
    "    'earth': 1,\n",
    "    'mars': 2,\n",
    "    'jupiter': 79,\n",
    "    'saturn': 82,\n",
    "    'uranus': 27,\n",
    "    'neptune': 14,\n",
    "    'pluto': 5,\n",
    "    'haumea': 2,\n",
    "    'makemake': 1,\n",
    "    'eris': 1\n",
    "}\n",
    "\n",
    "#Agregar y crear listas con los planetas y el número de lunas\n",
    "planets = planet_moons.keys()\n",
    "moons = planet_moons.values()\n",
    "total_moons = 0\n",
    "\n",
    "\n",
    "#Determinar el número total de lunas.\n",
    "for moon in moons:\n",
    "    total_moons = total_moons + moon\n",
    "    \n",
    "print(f'El total de lunas que se tienen es de: {total_moons}')\n",
    "\n",
    "\n",
    "#El promedio de lunas por planeta es:\n",
    "promedio = total_moons / len(planet_moons.keys())\n",
    "print(f'El promedio de lunas por pleneta es de: {promedio}')\n"
   ]
  },
  {
   "cell_type": "markdown",
   "metadata": {},
   "source": [
    "Diccionario: \n",
    "    \n",
    "    Los diccionarios de Python permiten trabajar con conjuntos de datos relacionados. Un diccionario es una colección de pares clave-valor. Piensa que es como un grupo de variables dentro de una cajita, donde la clave es el nombre de la variable y el valor es el valor almacenado en su interior."
   ]
  },
  {
   "cell_type": "markdown",
   "metadata": {},
   "source": [
    "#### Creación de un diccionario\n",
    "Python usa llaves ({ }) y dos puntos (:) para indicar un diccionario. Puedes crear un diccionario vacío y agregar valores más adelante, o bien rellenarlo en el momento de la creación. Cada clave o valor está separado por dos puntos y el nombre de cada clave se incluye entre comillas como un literal de cadena. Como la clave es un literal de cadena, puede usar el nombre que sea adecuado para describir el valor(Sí el que tu quieras).\n",
    "\n",
    "    Tiene dos claves, 'name' y 'moons'. Cada una se comporta igual que una variable: tienen un nombre único y almacenan un valor. Pero se incluyen dentro de una única variable más grande, denominada planet."
   ]
  },
  {
   "cell_type": "code",
   "execution_count": null,
   "metadata": {},
   "outputs": [],
   "source": [
    "planet = {\n",
    "    'name': 'Earth',\n",
    "    'moons': 1\n",
    "}"
   ]
  },
  {
   "cell_type": "markdown",
   "metadata": {},
   "source": [
    "#### Obtención de valores dentro de un diccionario\n",
    "Podemos leer valores dentro de un diccionario. Los objetos de diccionario tienen un método llamado get que puedes usar para acceder a un valor mediante su clave. Si queremos imprimir name, funcionaría de la siguiente manera:"
   ]
  },
  {
   "cell_type": "code",
   "execution_count": null,
   "metadata": {},
   "outputs": [],
   "source": [
    "# 1er forma PEROOOOOOOOOOOOOO....Si esta forma no eucntra una valor, devuelve un error\n",
    "print(planet['name'])\n",
    "print(planet['moons'])\n",
    "\n",
    "# 2da forma\" Esta forma si no encuentra un valor, devueleve un 'none' sin mandar directo a error\n",
    "print(planet.get('name')) #Trata con 'names' o algo fuera del diccionario\n",
    "print(planet.get('moons'))\n"
   ]
  },
  {
   "cell_type": "markdown",
   "metadata": {},
   "source": [
    "#### Modificacion de valores dentro de un diccionario\n",
    "\n",
    "La principal ventaja de usar update es la capacidad de modificar varios valores en una operación. Los dos ejemplos siguientes son lógicamente los mismos, pero la sintaxis es diferente. Puedes usar la sintaxis que creas más adecuada. Para actualizar valores individuales, la mayoría de los desarrolladores eligen corchetes.\n",
    "\n",
    "En el ejemplo siguiente se hacen las mismas modificaciones en la variable planet y se actualizan el nombre y las lunas. Ten en cuenta que al usar update realizas una sola llamada a la función, mientras que el uso de corchetes implica dos llamadas."
   ]
  },
  {
   "cell_type": "code",
   "execution_count": null,
   "metadata": {},
   "outputs": [],
   "source": [
    "# Se puede hacer mediante el método UPDATE, este método acepta el diccionario como parámetro.\n",
    "planet.update({'name':'Hola'})\n",
    "\n",
    "# También es posible hacerlo mediante el operador de asignación (=)\n",
    "planet['name'] = 'Aber'\n",
    "\n",
    "\n",
    "print(planet['name'])"
   ]
  },
  {
   "cell_type": "code",
   "execution_count": null,
   "metadata": {},
   "outputs": [],
   "source": [
    "# Uso de UPDATE para modificar varias variables del diccionario planet, sólo 1 ejecución\n",
    "planet.update({\n",
    "    'name': 'Hola',\n",
    "    'moons': 100\n",
    "})\n",
    "print(planet)\n",
    "\n",
    "\n",
    "# Uso de corchetes para modificación de variables dentro del diccionario planet, aquí se usaron de operaciones diferemtes\n",
    "planet['name'] = 'Jupiter'\n",
    "planet['moons'] = 79\n",
    "print(planet)"
   ]
  },
  {
   "cell_type": "markdown",
   "metadata": {},
   "source": [
    "#### Adición y elminiación de Claves \n",
    "Para poder crear una nueva clave, es simplemente como si se reasignara una clave ya existente. "
   ]
  },
  {
   "cell_type": "code",
   "execution_count": null,
   "metadata": {},
   "outputs": [],
   "source": [
    "# ADICIÓN --> Se realiza un proceso de asignación\n",
    "planet['gravedad'] = 1.009\n",
    "planet['orbital period']: 4333\n",
    "print(planet)\n",
    "\n",
    "#ELMINIACIÓN --> Se usa el método POP\n",
    "planet.pop('gravedad')\n",
    "print(planet)\n"
   ]
  },
  {
   "cell_type": "markdown",
   "metadata": {},
   "source": [
    "#### Tipos de datos complejos \n",
    "##### Diccionarios Anidados\n",
    "Los diccionarios pueden almacenar cualquier tipo de valor, incluidos OTROS DICCIONARIOS. Esto te permite modelar datos complejos según sea necesario. Imagina que debes de almacenar el diámetro de planet, que se podría medir alrededor de su ecuador o de los polos. Puedes crear otro diccionario dentro de planet para almacenar esta información:"
   ]
  },
  {
   "cell_type": "code",
   "execution_count": null,
   "metadata": {},
   "outputs": [],
   "source": [
    "# Añadimos los datos\n",
    "planet['diameter (km)'] = {\n",
    "    'polar': 133709,\n",
    "    'equatorial': 142984\n",
    "}\n",
    "\n",
    "# el diccionario planet ahora contiene: {\n",
    "#   name: 'Jupiter'\n",
    "#   moons: 79\n",
    "#   diameter (km): {\n",
    "#      polar: 133709\n",
    "#      equatorial: 142984\n",
    "#   }\n",
    "# }\n",
    "\n",
    "\n",
    "# Imprimir los valores del diccionario planeta\n",
    "print(planet.values())\n",
    "\n",
    "\n",
    "\n",
    "\n",
    "#Ahora para mandar a llamar los valores contenidos en planet, hacemos uso de método GET o corchetes anidados\n",
    "print(planet.get('diameter (km)'))\n",
    "print(f\"{planet['name']} polar diameter: {planet['diameter (km)']['polar']}\")\n",
    "\n",
    "# Salida: Jupiter polar diameter: 133709"
   ]
  },
  {
   "cell_type": "markdown",
   "metadata": {},
   "source": [
    "#### Programación dinámica con Diccionarios\n",
    "Para hacer una manipulación de los elementos de un diccionario, se usan distintos métodos disponibles, tales como el método \"keys()\" que nos permite acceder directamente al las keys de cada elemento.\n",
    "En este caso, nos apoyaremos en un ciclo for para recorrer cada elemento del diccionario y enlistarlo con sus respectivas keys y valores. "
   ]
  },
  {
   "cell_type": "code",
   "execution_count": 4,
   "metadata": {},
   "outputs": [
    {
     "name": "stdout",
     "output_type": "stream",
     "text": [
      "february : 1.0 cm\n",
      "march : 1.22 cm\n",
      "april : 2.01 cm\n",
      "may : 2.61 cm\n",
      "june : 4.8 cm\n",
      "july : 4.33 cm\n",
      "agust : 3.87 cm\n",
      "spetember : 3.2 cm\n",
      "october : 3.5 cm\n",
      "november : 4.2 cm\n",
      "december : 2.1 cm\n"
     ]
    }
   ],
   "source": [
    "## Recuperación de todas las claves y valores\n",
    "\n",
    "rainfall = {\n",
    "    'february'  : 1.0,\n",
    "    'march'     : 1.22,\n",
    "    'april'     : 2.01,\n",
    "    'may'       : 2.61,\n",
    "    'june'      : 4.8,\n",
    "    'july'      : 4.33,\n",
    "    'agust'     : 3.87,\n",
    "    'spetember' : 3.2,\n",
    "    'october'   : 3.5,\n",
    "    'november'  : 4.2,\n",
    "    'december'  : 2.1\n",
    "}\n",
    "\n",
    "\n",
    "#Para enlisatar todos los elementos del diccionario clave-valor\n",
    "for key in rainfall:\n",
    "    print(f\"{key} : {rainfall[key]} cm\")"
   ]
  },
  {
   "cell_type": "code",
   "execution_count": null,
   "metadata": {},
   "outputs": [],
   "source": [
    "# Determinando la existencia de una clave en un diccionario\n",
    "# Si no estamos seguros si una clave o un valor existe dentro del diccionario, es usa: \n",
    "\n",
    "# Si, 'december' existe en rainfall\n",
    "if 'december' in rainfall:\n",
    "    # rainfall [en la posición december] es igual a\n",
    "    # rainfall [en la posición december] + 1 (2.1+1)\n",
    "    rainfall['december'] = rainfall['december'] + 1\n",
    "\n",
    "# Si no: Crea la key 'december' y asignale el valor de 1\n",
    "else:\n",
    "\n",
    "    # rainfall [en la posición december] es igual a 1\n",
    "    rainfall['december'] = 1\n",
    "\n",
    "print(rainfall.values())\n",
    "# Como december si existe, el valor será 3.1"
   ]
  },
  {
   "cell_type": "markdown",
   "metadata": {},
   "source": [
    "### Recuperar todos los valores de un diccionario\n",
    "El método 'values()' se usa para obtener el valor de cada elemento del diccionario, dejan de lado las llaves de cada uno de estos, para así, poder trabajar directo sobre los valores."
   ]
  },
  {
   "cell_type": "code",
   "execution_count": null,
   "metadata": {},
   "outputs": [],
   "source": [
    "#Total de precipitaciones 0\n",
    "total_rainfall = 0\n",
    "\n",
    "# Para cada valor en los valores de rainfall\n",
    "for value in rainfall.values():\n",
    "    \n",
    "    # El total de las precipitaciones será igual a ese mismo + el valor que se está iterando\n",
    "\n",
    "    total_rainfall = total_rainfall + value\n",
    "\n",
    "# Muestra 'Hay un total de precipitaciones (el valor total) en centímetros en el último cuarto (haciendo referencia al cuarto del año)\n",
    "\n",
    "print(f'There was {total_rainfall}cm in the last quarter')\n",
    "\n",
    "# Salida:\n",
    "# There was 10.8cm in the last quarter"
   ]
  }
 ],
 "metadata": {
  "interpreter": {
   "hash": "eae47d52b0b06ace51bfa4e9d1f1aae633b8d0395256d98d666e8973a1aa06c5"
  },
  "kernelspec": {
   "display_name": "Python 3.10.1 64-bit",
   "name": "python3"
  },
  "language_info": {
   "codemirror_mode": {
    "name": "ipython",
    "version": 3
   },
   "file_extension": ".py",
   "mimetype": "text/x-python",
   "name": "python",
   "nbconvert_exporter": "python",
   "pygments_lexer": "ipython3",
   "version": "3.10.1"
  },
  "orig_nbformat": 4
 },
 "nbformat": 4,
 "nbformat_minor": 2
}
