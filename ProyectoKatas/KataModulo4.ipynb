{
 "cells": [
  {
   "cell_type": "markdown",
   "metadata": {},
   "source": [
    "## Kata Módulo 4.\n",
    "### Manejo de Cadenas en Python"
   ]
  },
  {
   "cell_type": "markdown",
   "metadata": {},
   "source": [
    "### Evidencia Kata Módulo 4"
   ]
  },
  {
   "cell_type": "code",
   "execution_count": 62,
   "metadata": {},
   "outputs": [
    {
     "name": "stdout",
     "output_type": "stream",
     "text": [
      " \n",
      "On average, the Moon moves 4 cm away from the Earth every year\n",
      " The highest daylight temperature of the Moon is 127 Celcius\n"
     ]
    }
   ],
   "source": [
    "# EJERCICIO 1. Transformar Cadenas\n",
    "\n",
    "text = \"\"\"Interesting facts about the Moon. The Moon is Earth's only satellite. There are several interesting facts about the Moon and how it affects life here on Earth. \n",
    "On average, the Moon moves 4 cm away from the Earth every year. This yearly drift is not significant enough to cause immediate effects on Earth. The highest daylight temperature of the Moon is 127 C.\"\"\"\n",
    "\n",
    "# Seprar por oración\n",
    "oraciones = text.split('.')\n",
    "# print(oraciones)\n",
    "\n",
    "#Definición de palabras clave\n",
    "claves = ['average','temperature']\n",
    "\n",
    "#Extracción de datos relevantes\n",
    "# for oracion in oraciones:\n",
    "#     for dato in claves:\n",
    "#         if dato in oracion:\n",
    "#             print(oracion)\n",
    "\n",
    "# Cambio de C -> Celsius\n",
    "for oracion in oraciones:\n",
    "    for dato in claves:\n",
    "        if dato in oracion:\n",
    "            print(oracion.replace('C', 'Celcius'))\n",
    "    \n",
    "            "
   ]
  },
  {
   "cell_type": "code",
   "execution_count": 113,
   "metadata": {},
   "outputs": [
    {
     "name": "stdout",
     "output_type": "stream",
     "text": [
      "Facts About Gravity of the Marte 's Ganímedes\n",
      "------------------------------------------------\n",
      "    Planet  ||  Satellite   ||  Gravity\n",
      "    Marte         Ganímedes          1.4300000000000002    \n",
      "    ------------------------------------------------\n",
      "\n"
     ]
    }
   ],
   "source": [
    "# Ejercicio 2. Formateando Cadenas\n",
    "\n",
    "# Datos\n",
    "name = \"Moon\"\n",
    "gravity = 0.00162 # in kms\n",
    "planet = \"Earth\"\n",
    "\n",
    "# Titulo genérico\n",
    "titulo = f\"facts about gravity of the {planet}'s {name} \".title()\n",
    "# print(titulo)\n",
    "\n",
    "# Plantilla de cadena multilínea para contener el resto de la información\n",
    "info = f\"\"\"------------------------------------------------\n",
    "    Planet  ||  Satellite   ||  Gravity\n",
    "    {planet}        {name}          {gravity*1000}    \n",
    "    ------------------------------------------------\"\"\"\n",
    "# print(info)\n",
    "\n",
    "#Imprimir ambas cadenas\n",
    "plantilla = f\"\"\"{titulo}\n",
    "    {info}\"\"\"\n",
    "\n",
    "# ---------------------------------------------------------------------------------------------------------\n",
    "# ---------------------------------------------------------------------------------------------------------\n",
    "#Nuevos datos\n",
    "planeta = 'Marte '\n",
    "gravedad  = 0.00143\n",
    "nombre = 'Ganímedes'\n",
    "\n",
    "plantilla_nueva = f\"\"\"Facts About Gravity of the {planeta}'s {nombre}\n",
    "------------------------------------------------\n",
    "    Planet  ||  Satellite   ||  Gravity\n",
    "    {planeta}        {nombre}          {gravedad*1000}    \n",
    "    ------------------------------------------------\n",
    "\"\"\"\n",
    "print(plantilla_nueva.format(planeta=planeta, nombre=nombre, gravedad=gravedad))"
   ]
  },
  {
   "cell_type": "markdown",
   "metadata": {},
   "source": [
    "#### Métodos string en Python\n",
    "Apuntes del módulo"
   ]
  },
  {
   "cell_type": "code",
   "execution_count": 8,
   "metadata": {},
   "outputs": [
    {
     "data": {
      "text/plain": [
       "['temperatures and facts about the moon']"
      ]
     },
     "execution_count": 8,
     "metadata": {},
     "output_type": "execute_result"
    }
   ],
   "source": [
    "a = 'temperatures and facts about the moon'\n",
    "a.title() # Es título\n",
    "a.split() # Crea una lista a partir de separar la str cada que hay un espacio"
   ]
  },
  {
   "cell_type": "code",
   "execution_count": 1,
   "metadata": {},
   "outputs": [
    {
     "data": {
      "text/plain": [
       "['Daylight: 260 F ', 'Nighttime: -280 F']"
      ]
     },
     "execution_count": 1,
     "metadata": {},
     "output_type": "execute_result"
    }
   ],
   "source": [
    "temperatures = '''Daylight: 260 F \n",
    "... Nighttime: -280 F'''\n",
    "temperatures .split('\\n') # Separa la str a partir de encontrarse con un \\n\n",
    "\n"
   ]
  },
  {
   "cell_type": "markdown",
   "metadata": {},
   "source": [
    "### Buscar en una cadena"
   ]
  },
  {
   "cell_type": "code",
   "execution_count": 16,
   "metadata": {},
   "outputs": [
    {
     "data": {
      "text/plain": [
       "False"
      ]
     },
     "execution_count": 16,
     "metadata": {},
     "output_type": "execute_result"
    }
   ],
   "source": [
    "#Buscar la palabra Moon = False\n",
    "'Moon' in 'This text will describe facts and challenges with space travel'"
   ]
  },
  {
   "cell_type": "code",
   "execution_count": 2,
   "metadata": {},
   "outputs": [
    {
     "data": {
      "text/plain": [
       "True"
      ]
     },
     "execution_count": 2,
     "metadata": {},
     "output_type": "execute_result"
    }
   ],
   "source": [
    "#Buscar la palabra Moon = False\n",
    "'Moon' in 'This text will describe facts about the Moon'"
   ]
  },
  {
   "cell_type": "code",
   "execution_count": 2,
   "metadata": {},
   "outputs": [
    {
     "data": {
      "text/plain": [
       "10"
      ]
     },
     "execution_count": 2,
     "metadata": {},
     "output_type": "execute_result"
    }
   ],
   "source": [
    "# Ejemplo del funcionamiento del método \"find()\" y \"count()\"\n",
    "\n",
    "temperatures = \"\"\"Saturn has a daytime temperature of -170 degrees Celsius,\n",
    "... while Mars has -28 Celsius.\"\"\"\n",
    "\n",
    "#temperatures.find('Moon') # Busca la palabra 'Moon' en la str\n",
    "#temperatures.find('Mars')\n",
    "\n",
    "temperatures.count('e') #Número de veces que aparece la letra 'e'"
   ]
  },
  {
   "cell_type": "code",
   "execution_count": 5,
   "metadata": {},
   "outputs": [
    {
     "data": {
      "text/plain": [
       "'THE MOON AND THE EARTH'"
      ]
     },
     "execution_count": 5,
     "metadata": {},
     "output_type": "execute_result"
    }
   ],
   "source": [
    "# Convertir en minusculas y mayúsuculas todas las letras de una cedena\n",
    "# Para python \"Moon\" y \"moon\" son palabras diferentes\n",
    "\n",
    "\"The Moon And The Earth\".lower()\n",
    "'The Moon And The Earth'.upper()"
   ]
  },
  {
   "cell_type": "markdown",
   "metadata": {},
   "source": [
    "#### Extraer Contenido y Comprobar"
   ]
  },
  {
   "cell_type": "code",
   "execution_count": 3,
   "metadata": {},
   "outputs": [
    {
     "data": {
      "text/plain": [
       "' -60 C'"
      ]
     },
     "execution_count": 3,
     "metadata": {},
     "output_type": "execute_result"
    }
   ],
   "source": [
    "# Se presenta un método par extaer la temperatura de la siguiente cadena\n",
    "\n",
    "temperatures = 'Mars Average Temperature: -60 C'\n",
    "parts = temperatures.split(':')\n",
    "parts[-1]"
   ]
  },
  {
   "cell_type": "markdown",
   "metadata": {},
   "source": [
    "Si el texto es irregular, no puedes usar los mismos métodos de división para obtener el valor. Debes iterar por todos los elementos y comprobar si los valores son de un tipo determinado. Python tiene métodos que ayudan a comprobar el tipo de cadena:"
   ]
  },
  {
   "cell_type": "code",
   "execution_count": 4,
   "metadata": {},
   "outputs": [
    {
     "name": "stdout",
     "output_type": "stream",
     "text": [
      "30\n"
     ]
    }
   ],
   "source": [
    "# Extraer la temperatura de la str\n",
    "mars_temperature = 'The highest temperature on Mars is about 30 C'\n",
    "\n",
    "for item in mars_temperature.split():\n",
    "    if item.isnumeric():\n",
    "        print(item)"
   ]
  },
  {
   "cell_type": "markdown",
   "metadata": {},
   "source": [
    "Al igual que el método .isnumeric(), puedes comprobar si hay cadenas que se parezcan a decimales .isdecimal()\n",
    "\n",
    "Dato: Podría ser sorprendente saber que \"-70\".isnumeric() regresa False. Esto se debe a que todos los caracteres de la cadena tendrían que ser numéricos y el guión (-) no es numérico. Si necesitas comprobar los números negativos en una cadena, el método .isnumeric() no funcionaría.\n",
    "\n",
    "Hay validaciones adicionales que puedes aplicar en cadenas para comprobar si hay valores. Para los números negativos, el guión está prefijado al número, y eso se puede detectar con el método: .startswith()."
   ]
  },
  {
   "cell_type": "code",
   "execution_count": 37,
   "metadata": {},
   "outputs": [
    {
     "name": "stdout",
     "output_type": "stream",
     "text": [
      "This temperature is in Celsius\n"
     ]
    }
   ],
   "source": [
    "\"-70\".isnumeric() # Is numeric?\n",
    "\"12\".isnumeric() # Is numeric?\n",
    "\n",
    "'-60'.startswith('-')\n",
    "\n",
    "# Del mismo modo, el método .endswith() ayuda a verificar el último carácter de una cadena:\n",
    "if \"30 C\".endswith(\"C\"):\n",
    "    print(\"This temperature is in Celsius\")"
   ]
  },
  {
   "cell_type": "markdown",
   "metadata": {},
   "source": [
    "### Para reemplzar texto o modificar carcateres"
   ]
  },
  {
   "cell_type": "code",
   "execution_count": 9,
   "metadata": {},
   "outputs": [
    {
     "data": {
      "text/plain": [
       "'Hila k hace ni sé qué pasa cin esta cadena de texti'"
      ]
     },
     "execution_count": 9,
     "metadata": {},
     "output_type": "execute_result"
    }
   ],
   "source": [
    "'Saturn has a daytime temperature of -170 degrees Celsius, while Mars has -28 Celsius.'.replace('Celsius', 'C')\n",
    "\"Hola k hace no sé qué pasa con esta cadena de texto\".replace('o','i')"
   ]
  },
  {
   "cell_type": "code",
   "execution_count": 7,
   "metadata": {},
   "outputs": [
    {
     "name": "stdout",
     "output_type": "stream",
     "text": [
      "Hola a todos este es un ejemplo de cadena\n"
     ]
    }
   ],
   "source": [
    "cadena = \"     Hola a todos este es un ejemplo de cadena     \"\n",
    "\n",
    "# print(cadena.split())\n",
    "print( cadena.strip()) #Quita espacios del inicio y del final\n"
   ]
  },
  {
   "cell_type": "markdown",
   "metadata": {},
   "source": [
    "### Unir cadenas\n",
    "Así como se puede separar cadenas, estas también pueden ser unidas mediante el método join(), sólo se necesita un objeto iterable como una lista."
   ]
  },
  {
   "cell_type": "code",
   "execution_count": 16,
   "metadata": {},
   "outputs": [
    {
     "data": {
      "text/plain": [
       "'Hola aquí se van a unir todos los elementos de esta lista en una sola cadena'"
      ]
     },
     "execution_count": 16,
     "metadata": {},
     "output_type": "execute_result"
    }
   ],
   "source": [
    "texto = ['Hola', 'aquí se van a unir todos los elementos de esta lista','en una sola cadena']\n",
    "' '.join(texto)"
   ]
  },
  {
   "cell_type": "markdown",
   "metadata": {},
   "source": [
    "### Manejo de formato en Cadenas\n",
    "Para dar formato a las cadenas se puede utilizar 'f' cuando se imprimen las cadenas, como a continuación: "
   ]
  },
  {
   "cell_type": "code",
   "execution_count": 21,
   "metadata": {},
   "outputs": [
    {
     "name": "stdout",
     "output_type": "stream",
     "text": [
      "On the Moon, you would weigh about 16.7 of your weight on Earth\n"
     ]
    }
   ],
   "source": [
    "# si deseas representar el valor 1/6 como un porcentaje con un decimal, puede utilizar la función round() directamente:\n",
    "mass_percentage = round(100/6, 1) #Redondea el número a numeros decimales\n",
    "print(f'On the Moon, you would weigh about {mass_percentage} of your weight on Earth') # Se usa 'f' para indicar que la cadena tiene formato"
   ]
  },
  {
   "cell_type": "code",
   "execution_count": 30,
   "metadata": {},
   "outputs": [
    {
     "name": "stdout",
     "output_type": "stream",
     "text": [
      "Interesting Facts About The Moon\n"
     ]
    }
   ],
   "source": [
    "subject = 'interesting facts about the moon'\n",
    "print(f'{subject.title()}') #.tittle es un MÉTODO, POR LO QUE LLEVA () AL FINAL"
   ]
  },
  {
   "cell_type": "code",
   "execution_count": 18,
   "metadata": {},
   "outputs": [
    {
     "name": "stdout",
     "output_type": "stream",
     "text": [
      "6\n",
      "awa\n",
      "['nada', 'mantequilla', 'leche', 'huevo', 'harina', 'awa']\n"
     ]
    }
   ],
   "source": [
    "ingredientes = ['huevo', 'harina', 'mantequilla', 'leche']\n",
    "\n",
    "ingredientes.append('awa') #Agregar al final\n",
    "ingredientes.insert(2, 'nada') #Agrega canela en la posición 2\n",
    "ingredientes.sort() #Ordena de la A-Z\n",
    "ingredientes.reverse() #Ordena de la Z-A\n",
    "print(len(ingredientes)) #Obtener la longitud de la lista\n",
    "\n",
    "print(ingredientes[-1])\n",
    "print(ingredientes)\n",
    "\n",
    "\n",
    "#Fregamentación / Slicing\n"
   ]
  },
  {
   "cell_type": "code",
   "execution_count": null,
   "metadata": {},
   "outputs": [],
   "source": []
  }
 ],
 "metadata": {
  "interpreter": {
   "hash": "eae47d52b0b06ace51bfa4e9d1f1aae633b8d0395256d98d666e8973a1aa06c5"
  },
  "kernelspec": {
   "display_name": "Python 3.10.1 64-bit",
   "name": "python3"
  },
  "language_info": {
   "codemirror_mode": {
    "name": "ipython",
    "version": 3
   },
   "file_extension": ".py",
   "mimetype": "text/x-python",
   "name": "python",
   "nbconvert_exporter": "python",
   "pygments_lexer": "ipython3",
   "version": "3.10.1"
  },
  "orig_nbformat": 4
 },
 "nbformat": 4,
 "nbformat_minor": 2
}
