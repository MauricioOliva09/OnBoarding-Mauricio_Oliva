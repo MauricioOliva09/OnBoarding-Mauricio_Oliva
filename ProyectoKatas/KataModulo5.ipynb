{
 "cells": [
  {
   "cell_type": "markdown",
   "metadata": {},
   "source": [
    "## Kata Módulo 5. Usar operaciones matemáticas"
   ]
  },
  {
   "cell_type": "code",
   "execution_count": 3,
   "metadata": {},
   "outputs": [
    {
     "name": "stdout",
     "output_type": "stream",
     "text": [
      "La distancias entre la Tierra y Jupiter es:\n",
      "      628949330 km\n",
      "      390577533.93 millas\n"
     ]
    }
   ],
   "source": [
    "#Ejercicio 1. \n",
    "\n",
    "tierra =149597870 #km\n",
    "jupiter = 778547200 #km.\n",
    "\n",
    "# Determinar distancia entre planetas\n",
    "dist = abs(tierra - jupiter)\n",
    "print(f\"\"\"La distancias entre la Tierra y Jupiter es:\n",
    "      {dist} km\n",
    "      {dist*0.621} millas\"\"\")"
   ]
  },
  {
   "cell_type": "code",
   "execution_count": 7,
   "metadata": {},
   "outputs": [
    {
     "name": "stdout",
     "output_type": "stream",
     "text": [
      "Bienvenido a la calculadora de distancia entre planetas:\n",
      "La distancia entre Venus y Mercurio es:\n",
      "      50300000.0 km\n",
      "      31236300.0 millas\n"
     ]
    }
   ],
   "source": [
    "#Ejercicio 2\n",
    "\n",
    "print(\"Bienvenido a la calculadora de distancia entre planetas:\")\n",
    "\n",
    "nombre1 = input('Inserta el nombre del primer planeta:')\n",
    "planeta1 = float(input('Inserta la distancia del primer planeta desde el Sol:'))\n",
    "\n",
    "nombre2 = input('Inserta el nombre del segundo planeta:')\n",
    "planeta2 = float(input('Inserta la distancia del segundo planeta desde el Sol:'))\n",
    "\n",
    "dist = abs(planeta1 - planeta2)\n",
    "print(f\"\"\"La distancia entre {nombre1} y {nombre2} es:\n",
    "      {dist} km\n",
    "      o\n",
    "      {dist*0.621} millas\"\"\")"
   ]
  },
  {
   "cell_type": "code",
   "execution_count": null,
   "metadata": {},
   "outputs": [],
   "source": []
  }
 ],
 "metadata": {
  "interpreter": {
   "hash": "eae47d52b0b06ace51bfa4e9d1f1aae633b8d0395256d98d666e8973a1aa06c5"
  },
  "kernelspec": {
   "display_name": "Python 3.10.1 64-bit",
   "name": "python3"
  },
  "language_info": {
   "codemirror_mode": {
    "name": "ipython",
    "version": 3
   },
   "file_extension": ".py",
   "mimetype": "text/x-python",
   "name": "python",
   "nbconvert_exporter": "python",
   "pygments_lexer": "ipython3",
   "version": "3.10.1"
  },
  "orig_nbformat": 4
 },
 "nbformat": 4,
 "nbformat_minor": 2
}
