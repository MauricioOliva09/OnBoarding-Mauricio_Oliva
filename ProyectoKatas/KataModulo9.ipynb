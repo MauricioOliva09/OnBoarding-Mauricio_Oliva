{
 "cells": [
  {
   "cell_type": "markdown",
   "metadata": {},
   "source": [
    "## Kata del módulo 9. Funciones"
   ]
  },
  {
   "cell_type": "code",
   "execution_count": null,
   "metadata": {},
   "outputs": [],
   "source": [
    "# Ejercicio 1: Trabajar con argumentos en funciones\n",
    "\n",
    "#Función para el cálculo del informe del combustible\n",
    "def informe_combustible(tanque1, tanque2, tanque3):\n",
    "    print(f\"\"\"\n",
    "          Reporte general del combustible:\n",
    "            Tanque 1: {tanque1}%\n",
    "            Tanque 2: {tanque2}%\n",
    "            Tanque 3: {tanque3}%\n",
    "            \n",
    "            El promedio de combustible que se tiene en la nave es de {promedio(tanque1,tanque2,tanque3)}%\"\"\")\n",
    "\n",
    "\n",
    "#Función que calcula promedio, se usaron argumentos variables\n",
    "def promedio(*valores):\n",
    "    total = sum(valores)\n",
    "    prom_combustible = total / len(valores)\n",
    "    return prom_combustible\n",
    "\n",
    "#Llamado a la función\n",
    "informe_combustible(88,76,70)"
   ]
  },
  {
   "cell_type": "code",
   "execution_count": 99,
   "metadata": {},
   "outputs": [
    {
     "name": "stdout",
     "output_type": "stream",
     "text": [
      "INFORME DE MISIÓN: \n",
      "                Destino: Moon\n",
      "                Tiempo estimado de vuelo: 163 minutos\n",
      "                Total de Combustible: 70%\n",
      "\n",
      "\n",
      "                Nivel de Combustible: \n",
      "                      externo tiene 20%\n",
      "      interno tiene 50%\n",
      "\n"
     ]
    }
   ],
   "source": [
    "# Ejercicio 2: Trabajar con argumentos de palabras clave en funciones\n",
    "# Considera hora de prelanzamiento, tiempo de vuelo, destino, tanque externo y tanque interno\n",
    "\n",
    "def informe_mision(destino, *values, **fuel):\n",
    "    reporte = f\"\"\"INFORME DE MISIÓN: \n",
    "                Destino: {destino}\n",
    "                Tiempo estimado de vuelo: {sum(values)} minutos\n",
    "                Total de Combustible: {sum(fuel.values())}%\\n\\n\n",
    "                Nivel de Combustible: \n",
    "                \"\"\" #Se usa fuel.values() porque se maneja como los valores de un diccionario\n",
    "    \n",
    "    for tank, nivel in fuel.items():\n",
    "        reporte = reporte + f\"      {tank} tiene {nivel}%\\n\"\n",
    "    \n",
    "    print(reporte)\n",
    "    \n",
    "    \n",
    "informe_mision(\"Moon\", 23, 50, 90, externo=20, interno=50)\n",
    "\n",
    "\n",
    "\n"
   ]
  },
  {
   "cell_type": "markdown",
   "metadata": {},
   "source": [
    "Definición. En su forma más sencilla, una función contiene código que siempre devuelve un valor (o valores). En algunos casos, una función también tiene entradas opcionales u obligatorias.\n",
    "\n",
    "Al empezar a escribir código que duplica otras partes del programa, se convierte en una oportunidad perfecta para extraer el código en una función. Aunque compartir código común mediante funciones es útil, también se puede limitar el tamaño del código extrayendo partes en funciones más pequeñas (y legibles).\n",
    "\n",
    "\n",
    "    Para crear una función, utilizamos la palabra clave def, seguida de un nombre, paréntesis y, después, del cuerpo con el código de función:"
   ]
  },
  {
   "cell_type": "markdown",
   "metadata": {},
   "source": [
    "### Funciones sin argumentos"
   ]
  },
  {
   "cell_type": "code",
   "execution_count": null,
   "metadata": {},
   "outputs": [],
   "source": [
    "# Defino mi función\n",
    "def rocket_parts():\n",
    "    print('payload, propellant, structure')\n",
    "\n",
    "#Llamada de la función    \n",
    "rocket_parts()"
   ]
  },
  {
   "cell_type": "markdown",
   "metadata": {},
   "source": [
    "La función rocket_parts() no toma ningún argumento e imprime una instrucción sobre la gravedad. Si necesitas usar un valor que devuelve una función, puedes asignar la salida de la función a una variable:"
   ]
  },
  {
   "cell_type": "code",
   "execution_count": null,
   "metadata": {},
   "outputs": [],
   "source": [
    "output = rocket_parts()"
   ]
  },
  {
   "cell_type": "code",
   "execution_count": null,
   "metadata": {},
   "outputs": [],
   "source": [
    "def rocket_parts():\n",
    "    return 'payload, propellant, structure' #Devuelve una cadena de texto\n",
    "\n",
    "\n",
    "output = rocket_parts() # Almacenar la respuesta de la función en una variable"
   ]
  },
  {
   "cell_type": "markdown",
   "metadata": {},
   "source": [
    "### Uso de argumentos en una función de Python\n",
    "El paso siguiente es crear funciones que requieran un argumento. El uso de argumentos hace que las funciones sean más flexibles, ya que pueden hacer más y condicionalizar lo que hacen."
   ]
  },
  {
   "cell_type": "markdown",
   "metadata": {},
   "source": [
    "#### Exigencia de un argumento\n",
    "Si vas a pilotar un cohete, una función sin entradas obligatorias es como un equipo con un botón que le indique la hora. Si presionas el botón, una voz computarizada le indicará la hora. Pero una entrada necesaria puede ser un destino para calcular la distancia del viaje. Las entradas obligatorias se denominan argumentos para la función."
   ]
  },
  {
   "cell_type": "code",
   "execution_count": null,
   "metadata": {},
   "outputs": [],
   "source": [
    "def distance_from_earth(destination):\n",
    "    if destination == 'Moon':\n",
    "        return '238,855'\n",
    "    else:\n",
    "        return 'Unable to compute to that destination'\n",
    "    \n",
    "distance_from_earth('g')"
   ]
  },
  {
   "cell_type": "markdown",
   "metadata": {},
   "source": [
    "#### Varios argumentos necesarios\n",
    "Para usar varios argumentos, debes separarlos con una coma. Vamos a crear una función que pueda calcular cuántos días se tardarán en llegar a un destino, dadas la distancia y una velocidad constante:"
   ]
  },
  {
   "cell_type": "code",
   "execution_count": null,
   "metadata": {},
   "outputs": [],
   "source": [
    "def days_to_complete(distance, speed):\n",
    "    hours = distance/speed\n",
    "    return hours/24\n",
    "\n",
    "\n",
    "days_to_complete(238855,75)"
   ]
  },
  {
   "cell_type": "markdown",
   "metadata": {},
   "source": [
    "#### Funciones como argumentos\n",
    "Puedes usar el valor de la función days_to_complete() y asignarlo a una variable y, después, pasarlo a round() (una función integrada que redondea al número entero más cercano) para obtener un número entero:"
   ]
  },
  {
   "cell_type": "code",
   "execution_count": null,
   "metadata": {},
   "outputs": [],
   "source": [
    "round(days_to_complete(238855,75))"
   ]
  },
  {
   "cell_type": "markdown",
   "metadata": {},
   "source": [
    "#### Uso de argumentos de palabra clave en Python\n",
    "\n",
    "Los argumentos opcionales requieren un valor predeterminado asignado a ellos. Estos argumentos con nombre se denominan argumentos de palabra clave. Los valores del argumento de palabra clave deben definirse en las propias funciones. Cuando se llama a una función definida con argumentos de palabra clave, no es necesario usarlos en absoluto.\n",
    "\n",
    "\n",
    "    def arrival_time(hours=51): -> Aquí se le define un valor al argumento (51)"
   ]
  },
  {
   "cell_type": "code",
   "execution_count": null,
   "metadata": {},
   "outputs": [],
   "source": [
    "#Se importa timedelta y datetime desde datetime\n",
    "from datetime import timedelta, datetime \n",
    "\n",
    "#Se define la función\n",
    "def arrival_time(hours=51): #Se define argumento de palabra clave\n",
    "    now = datetime.now()\n",
    "    arrival = now + timedelta(hours=hours) #Se usa timedelta para permitir la operación de suma que da como resultado un objeto de hora nuevo\n",
    "    return arrival.strftime('Arrival: %A %H:%M') # Devuelve la estimación arrival con formato de cadena\n",
    "\n",
    "\n",
    "#Llamada a la función, no permite pasar argumentos cuando se llama a la función\n",
    "arrival_time()"
   ]
  },
  {
   "cell_type": "markdown",
   "metadata": {},
   "source": [
    "#### Combinación de argumentos y argumentos de palabra clave\n",
    "A veces, una función necesita una combinación de argumentos de palabra clave y argumentos. En Python, esta combinación sigue un orden específico. Los argumentos siempre se declaran primero, seguidos de argumentos de palabra clave."
   ]
  },
  {
   "cell_type": "code",
   "execution_count": null,
   "metadata": {},
   "outputs": [],
   "source": [
    "from datetime import timedelta, datetime\n",
    "\n",
    "def arrival_time(destination, hours=51): #Se agregó 'destination' como argumento\n",
    "    now = datetime.now()\n",
    "    arrival = now + timedelta(hours=hours)\n",
    "    return arrival.strftime(f'{destination} Arrival: %A %H:%M')\n",
    "\n",
    "#Llamado de la función, se agrega el parámetro 'Moon'\n",
    "arrival_time('Moon')\n",
    "\n",
    "#Si se quieren pasar ambos argumentos, se puede de la siguiente manera, se pasa el argumento de palabra clave también\n",
    "arrival_time('Orbit', hours=0.13)"
   ]
  },
  {
   "cell_type": "markdown",
   "metadata": {},
   "source": [
    "#### Uso de argumentos de variable en Python\n",
    "En Python, puedes usar cualquier número de argumentos de palabra clave y argumentos sin necesidad de declarar cada uno de ellos. Esta capacidad es útil cuando una función puede obtener un número desconocido de entradas.\n",
    "\n",
    "    Los argumentos en las funciones son necesarios. Pero cuando se usan argumentos de variable, la función permite pasar cualquier número de argumentos (incluido 0). La sintaxis para usar argumentos de variable es agregar un asterisco único como prefijo (*) antes del nombre del argumento."
   ]
  },
  {
   "cell_type": "code",
   "execution_count": null,
   "metadata": {},
   "outputs": [],
   "source": [
    "#En este caso, *args  indica a la función que acepta cualquier número de argumentos (incluido 0).\n",
    "#En la función, args ahora está disponible como la variable que contiene todos los argumentos como una TUPLA.\n",
    "\n",
    "def variable_length(*args):\n",
    "    print(args)\n",
    "    \n",
    "\n",
    "variable_length(1,'Hola', None) "
   ]
  },
  {
   "cell_type": "markdown",
   "metadata": {},
   "source": [
    "#### Argumentos de palabra clave variable\n",
    "    Para que una función acepte cualquier número de argumentos de palabra clave, debe usar una sintaxis similar. En este caso, se requiere un asterisco doble:"
   ]
  },
  {
   "cell_type": "code",
   "execution_count": null,
   "metadata": {},
   "outputs": [],
   "source": [
    "#Se define función que acepta argumetos palabra-clave variable usaando doble asterisco (**)\n",
    "def variable_length(**kwargs):\n",
    "    print(kwargs)\n",
    "    \n",
    "variable_length(year=2022, month=10, day=7, hour=13, minute=14, seg=58)   #Observar que el resultado es parecido a un diccionario "
   ]
  },
  {
   "cell_type": "code",
   "execution_count": null,
   "metadata": {},
   "outputs": [],
   "source": [
    "#Ejemplo:\n",
    "\n",
    "def crew_members(**kwargs):\n",
    "    print(f'{len(kwargs)} astronauts assigned for this mission:')\n",
    "    for title, name in kwargs.items():\n",
    "        print(f'{title}: {name}')\n",
    "\n",
    "\n",
    "#Si se usa el mismo nombre clave para añgún argumento, este mandará ERROR, evitar usar palabras clave repetidas\n",
    "crew_members(captain='Niel Armstrong', pilot='Mauricio Oliva', command_pilot='Buzz Lightyear')\n"
   ]
  },
  {
   "cell_type": "code",
   "execution_count": null,
   "metadata": {},
   "outputs": [],
   "source": []
  }
 ],
 "metadata": {
  "interpreter": {
   "hash": "eae47d52b0b06ace51bfa4e9d1f1aae633b8d0395256d98d666e8973a1aa06c5"
  },
  "kernelspec": {
   "display_name": "Python 3.10.1 64-bit",
   "name": "python3"
  },
  "language_info": {
   "codemirror_mode": {
    "name": "ipython",
    "version": 3
   },
   "file_extension": ".py",
   "mimetype": "text/x-python",
   "name": "python",
   "nbconvert_exporter": "python",
   "pygments_lexer": "ipython3",
   "version": "3.10.1"
  },
  "orig_nbformat": 4
 },
 "nbformat": 4,
 "nbformat_minor": 2
}
